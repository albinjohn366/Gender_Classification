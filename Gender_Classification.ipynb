{
  "nbformat": 4,
  "nbformat_minor": 0,
  "metadata": {
    "colab": {
      "name": "Gender Classification.ipynb",
      "provenance": [],
      "authorship_tag": "ABX9TyO8WSvIIZhgvxVPZroVyRVL"
    },
    "kernelspec": {
      "name": "python3",
      "display_name": "Python 3"
    }
  },
  "cells": [
    {
      "cell_type": "markdown",
      "metadata": {
        "id": "aR84A2UIBPyU"
      },
      "source": [
        "# **Gender Classification**\r\n",
        "\r\n",
        "Using nltk to predict the gender of a person by looking at the name. Training is done on the basis of the last letter of different people collected from different sources."
      ]
    },
    {
      "cell_type": "code",
      "metadata": {
        "id": "cBl00GXRBLju"
      },
      "source": [
        "import nltk\r\n",
        "nltk.download('names')\r\n",
        "from nltk.corpus import names\r\n",
        "data_males = [(name, 'Male') for name in names.words('male.txt')]\r\n",
        "data_females = [(name, 'Female') for name in names.words('female.txt')]"
      ],
      "execution_count": null,
      "outputs": []
    },
    {
      "cell_type": "code",
      "metadata": {
        "id": "z3hEgkVXGFX6"
      },
      "source": [
        "import random\r\n",
        "data = data_males\r\n",
        "data.extend(data_females)\r\n",
        "random.shuffle(data)"
      ],
      "execution_count": 12,
      "outputs": []
    },
    {
      "cell_type": "code",
      "metadata": {
        "id": "3roEi8UVHD4F"
      },
      "source": [
        "# Splitting data for training and testing\r\n",
        "mid_value = int(len(data) * 0.8)\r\n",
        "train = data[:mid_value]\r\n",
        "test = data[mid_value:]"
      ],
      "execution_count": null,
      "outputs": []
    },
    {
      "cell_type": "code",
      "metadata": {
        "id": "h7u0O9nVNP59"
      },
      "source": [
        "def gender_features(name):\r\n",
        "  features = dict()\r\n",
        "  features['start_letter'] = name[0]\r\n",
        "  features['end_letter'] = name[len(name) - 1]\r\n",
        "  for i in 'abcdefghijklmnopqrstuvwxyz':\r\n",
        "    features['no_of_{}'.format(i)] = name.lower().count(i)\r\n",
        "  return features"
      ],
      "execution_count": 35,
      "outputs": []
    },
    {
      "cell_type": "code",
      "metadata": {
        "id": "srKATuRMJJYX"
      },
      "source": [
        "# Getting the feature set\r\n",
        "feature_set = []\r\n",
        "for name, label in data:\r\n",
        "  features = gender_features(name)\r\n",
        "  feature_set.append((features, label))"
      ],
      "execution_count": 36,
      "outputs": []
    },
    {
      "cell_type": "code",
      "metadata": {
        "id": "DHWQQ9A_Iznd"
      },
      "source": [
        "# Defining the classifier\r\n",
        "clf = nltk.NaiveBayesClassifier.train(feature_set)"
      ],
      "execution_count": 37,
      "outputs": []
    },
    {
      "cell_type": "code",
      "metadata": {
        "colab": {
          "base_uri": "https://localhost:8080/",
          "height": 70
        },
        "id": "oJ4KhI66OLRE",
        "outputId": "e7650f11-229e-4253-95c7-581110c6432b"
      },
      "source": [
        "# Classification on given input\r\n",
        "sentence = input(\"Please enter the name\\n\")\r\n",
        "feature = gender_features(sentence)\r\n",
        "clf.classify(feature)"
      ],
      "execution_count": 61,
      "outputs": [
        {
          "output_type": "stream",
          "text": [
            "Please enter the name\n",
            "melvin\n"
          ],
          "name": "stdout"
        },
        {
          "output_type": "execute_result",
          "data": {
            "application/vnd.google.colaboratory.intrinsic+json": {
              "type": "string"
            },
            "text/plain": [
              "'Male'"
            ]
          },
          "metadata": {
            "tags": []
          },
          "execution_count": 61
        }
      ]
    },
    {
      "cell_type": "code",
      "metadata": {
        "colab": {
          "base_uri": "https://localhost:8080/"
        },
        "id": "6QsNIjYYQRJJ",
        "outputId": "e0ba3886-f229-4bb8-f988-7e91761550b9"
      },
      "source": [
        "# Presenting probability percentage\r\n",
        "sentence = input(\"Please enter the name\\n\")\r\n",
        "feature = gender_features(sentence)\r\n",
        "prob = clf.prob_classify(feature)\r\n",
        "for i in prob.samples():\r\n",
        "  print(i, prob.prob(i)*100, '%')"
      ],
      "execution_count": 60,
      "outputs": [
        {
          "output_type": "stream",
          "text": [
            "Please enter the name\n",
            "melvin\n",
            "Female 41.19893841250688 %\n",
            "Male 58.80106158749303 %\n"
          ],
          "name": "stdout"
        }
      ]
    }
  ]
}